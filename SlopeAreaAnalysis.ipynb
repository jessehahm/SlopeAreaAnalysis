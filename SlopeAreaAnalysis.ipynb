{
 "cells": [
  {
   "cell_type": "code",
   "execution_count": 12,
   "metadata": {
    "collapsed": false
   },
   "outputs": [],
   "source": [
    "import numpy as np\n",
    "import gdal\n",
    "import statsmodels.api as sm \n",
    "# import pandas as pd\n",
    "import matplotlib.pyplot as plt\n",
    "import matplotlib\n",
    "matplotlib.rcParams['pdf.fonttype'] = 42\n",
    "%matplotlib inline\n",
    "import seaborn as sns\n",
    "import pandas as pd\n",
    "#merged slope raster, accumulation area raster, and watershed raster into one three band raster.\n",
    "# exported this raster into a text file from OSGeo4W command line:\n",
    "# gdal2xyz input.tif -band 1 -band 2 -band 3 output.txt. This is a slow operation... \n"
   ]
  },
  {
   "cell_type": "code",
   "execution_count": 2,
   "metadata": {
    "collapsed": false
   },
   "outputs": [
    {
     "name": "stdout",
     "output_type": "stream",
     "text": [
      "{'AREA_OR_POINT': 'Area'}\n"
     ]
    }
   ],
   "source": [
    "try:\n",
    "    ds = gdal.Open('S:\\JESSE\\Slope Area Figs Data\\Angelo_SR.tif')\n",
    "except RuntimeError, e:\n",
    "    print 'Unable to open .tif'\n",
    "    print e\n",
    "    sys.exit(1)\n",
    "\n",
    "print ds.GetMetadata()"
   ]
  },
  {
   "cell_type": "code",
   "execution_count": 3,
   "metadata": {
    "collapsed": false
   },
   "outputs": [],
   "source": [
    "band1 = ds.GetRasterBand(1)\n",
    "band2 = ds.GetRasterBand(2)\n",
    "band3 = ds.GetRasterBand(3)"
   ]
  },
  {
   "cell_type": "code",
   "execution_count": 4,
   "metadata": {
    "collapsed": false
   },
   "outputs": [],
   "source": [
    "# turn into 1-d arrays, and only use values > 0 (sometimes no-value data is very large negative number)\n",
    "array = band1.ReadAsArray().flatten()\n",
    "array1 = array[array>0]\n",
    "array2 = band2.ReadAsArray().flatten()\n",
    "array2 = array2[array>0]\n",
    "array3 = band3.ReadAsArray().flatten()\n",
    "array3 = array3[array>0]"
   ]
  },
  {
   "cell_type": "code",
   "execution_count": 5,
   "metadata": {
    "collapsed": false
   },
   "outputs": [],
   "source": [
    "elderSlope = array2[array3 == 1]\n",
    "elderArea = array1[array3 == 1]\n",
    "foxSlope = array2[array3 == 2]\n",
    "foxArea = array1[array3 == 2]\n",
    "hankSlope = array2[array3 == 3]\n",
    "hankArea = array1[array3 == 3]\n",
    "drySlope = array2[array3 == 4]\n",
    "dryArea = array1[array3 == 4]\n",
    "\n",
    "#Band 1 = area\n",
    "#Band 2 = slope\n",
    "# Band 3 = watershed\n",
    "\n",
    "#watershed key:\n",
    "#Dry = 4\n",
    "#Hank = 3\n",
    "#Elder = 1\n",
    "#Fox = 2"
   ]
  },
  {
   "cell_type": "code",
   "execution_count": 6,
   "metadata": {
    "collapsed": false
   },
   "outputs": [],
   "source": [
    "# elderArea = elderArea + 1 #can't take log of 0\n",
    "# foxArea = foxArea + 1\n",
    "# hankArea = hankArea + 1 \n",
    "# dryArea = dryArea + 1 \n"
   ]
  },
  {
   "cell_type": "code",
   "execution_count": 7,
   "metadata": {
    "collapsed": false
   },
   "outputs": [
    {
     "data": {
      "text/plain": [
       "16.029441858788633"
      ]
     },
     "execution_count": 7,
     "metadata": {},
     "output_type": "execute_result"
    }
   ],
   "source": [
    "np.mean(drySlope)"
   ]
  },
  {
   "cell_type": "code",
   "execution_count": 8,
   "metadata": {
    "collapsed": false,
    "scrolled": true
   },
   "outputs": [],
   "source": [
    "#GENERATE LOGARITHMIC BIN SPACING\n",
    "numBins = 21\n",
    "\n",
    "area_bins_elder = np.logspace(np.log10(min(elderArea)), np.log10(max(elderArea)), numBins)\n",
    "area_bins_fox = np.logspace(np.log10(min(hankArea)), np.log10(max(hankArea)), numBins)\n",
    "area_bins_hank = np.logspace(np.log10(min(hankArea)), np.log10(max(foxArea)), numBins)\n",
    "area_bins_dry = np.logspace(np.log10(min(hankArea)), np.log10(max(dryArea)), numBins)\n",
    "\n",
    "\n",
    "#Return the indices_elder of the bins to which each value in input array belongs.\n",
    "indices_elder = np.digitize(elderArea, area_bins_elder)\n",
    "indices_fox = np.digitize(foxArea, area_bins_fox)\n",
    "indices_hank = np.digitize(hankArea, area_bins_hank)\n",
    "indices_dry = np.digitize(dryArea, area_bins_dry)\n",
    "\n",
    "#COMPUTE MEAN, MEDIAN AND STANDARD DEVIATION OF SLOPE IN EACH AREA BIN\n",
    "bin_means_elder = [elderSlope[indices_elder == i].mean() for i in range(1, len(area_bins_elder))]\n",
    "bin_medians_elder = [np.median(elderSlope[indices_elder == i]) for i in range(1, len(area_bins_elder))]\n",
    "bin_stds_elder = [elderSlope[indices_elder == i].std() for i in range(1, len(area_bins_elder))]\n",
    "\n",
    "bin_means_fox = [foxSlope[indices_fox == i].mean() for i in range(1, len(area_bins_fox))]\n",
    "bin_medians_fox = [np.median(foxSlope[indices_fox == i]) for i in range(1, len(area_bins_fox))]\n",
    "bin_stds_fox = [foxSlope[indices_fox == i].std() for i in range(1, len(area_bins_fox))]\n",
    "\n",
    "bin_means_hank = [hankSlope[indices_hank == i].mean() for i in range(1, len(area_bins_hank))]\n",
    "bin_medians_hank = [np.median(hankSlope[indices_hank == i]) for i in range(1, len(area_bins_hank))]\n",
    "bin_stds_hank = [hankSlope[indices_hank == i].std() for i in range(1, len(area_bins_hank))]\n",
    "\n",
    "bin_means_dry = [drySlope[indices_dry == i].mean() for i in range(1, len(area_bins_dry))]\n",
    "bin_medians_dry = [np.median(drySlope[indices_dry == i]) for i in range(1, len(area_bins_dry))]\n",
    "bin_stds_dry = [drySlope[indices_dry == i].std() for i in range(1, len(area_bins_dry))]\n",
    "\n"
   ]
  },
  {
   "cell_type": "code",
   "execution_count": 34,
   "metadata": {
    "collapsed": false
   },
   "outputs": [],
   "source": [
    "def kde_fit(array):\n",
    "    dens = sm.nonparametric.KDEUnivariate(array)\n",
    "    dens.fit()\n",
    "    density = dens.density\n",
    "    value = dens.support\n",
    "    return density, value\n",
    "\n",
    "elder_slope_density, elder_slope_value = kde_fit(elderSlope.astype(np.double))\n",
    "elder_area_density, elder_area_value = kde_fit(elderArea.astype(np.double))\n",
    "fox_slope_density, fox_slope_value = kde_fit(foxSlope.astype(np.double))\n",
    "fox_area_density, fox_area_value = kde_fit(foxArea.astype(np.double))\n",
    "\n",
    "hank_slope_density, hank_slope_value = kde_fit(hankSlope.astype(np.double))\n",
    "hank_area_density, hank_area_value = kde_fit(hankArea.astype(np.double))\n",
    "dry_slope_density, dry_slope_value = kde_fit(drySlope.astype(np.double))\n",
    "dry_area_density, dry_area_value = kde_fit(dryArea.astype(np.double))\n",
    "\n",
    "\n"
   ]
  },
  {
   "cell_type": "code",
   "execution_count": 26,
   "metadata": {
    "collapsed": false
   },
   "outputs": [],
   "source": [
    "allData = pd.read_csv('data/allData.csv')\n",
    "r1 = allData[allData['Round']==1]\n",
    "r2 = allData[allData['Round']==2]"
   ]
  },
  {
   "cell_type": "code",
   "execution_count": 38,
   "metadata": {
    "collapsed": true
   },
   "outputs": [],
   "source": [
    "round1_slope_density, round1_slope_value = kde_fit(r1['slp_deg_co'].astype(np.double))\n",
    "round2_slope_density, round2_slope_value = kde_fit(r2['slp_deg_co'].astype(np.double))\n",
    "\n",
    "round1_area_density, round1_area_value = kde_fit(r1['flowacc_co'].astype(np.double))\n",
    "round2_area_density, round2_area_value = kde_fit(r2['flowacc_co'].astype(np.double))\n"
   ]
  },
  {
   "cell_type": "code",
   "execution_count": 39,
   "metadata": {
    "collapsed": false
   },
   "outputs": [
    {
     "data": {
      "image/png": "[encoded data removed]",
      "text/plain": [
       "<matplotlib.figure.Figure at 0x30c1c4e0>"
      ]
     },
     "metadata": {},
     "output_type": "display_data"
    }
   ],
   "source": [
    "# Create a figure\n",
    "sns.set_style(\"ticks\")\n",
    "fig, ((ax1, ax2), (ax3, ax4)) = plt.subplots(2, 2, sharex='col', sharey='row')\n",
    "\n",
    "\n",
    "plotError = True\n",
    "\n",
    "ax1.plot(elder_area_value, elder_area_density, lw=1, color='r', label=\"Elder\");\n",
    "ax1.plot(fox_area_value, fox_area_density, linestyle = '--', lw=1, color='r', label=\"Fox\");\n",
    "ax1.plot(round1_area_density, round1_area_value, lw=1, color='orange');\n",
    "ax1.plot(round2_area_density, round2_area_value, lw=1, color='teal');\n",
    "\n",
    "# ax1.plot(hank_area_value, hank_area_density, lw=1, color='b', label=\"Hank\");\n",
    "# ax1.plot(dry_area_value, dry_area_density, linestyle = '--', lw=1, color='b', label=\"Dry\");\n",
    "# ax1.legend(bbox_to_anchor=(.9, .5))\n",
    "\n",
    "ax1.axes.get_yaxis().set_visible(False)\n",
    "ax1.axes.get_xaxis().set_visible(False)\n",
    "ax1.set_xscale('log')\n",
    "ax1.set_frame_on(False)\n",
    "\n",
    "symbolSize = 30\n",
    "ax3.scatter(.5*(area_bins_elder[1:]+area_bins_elder[:-1]),bin_medians_elder, s=symbolSize, marker = \"o\", color = 'r', label=\"Elder\")\n",
    "ax3.scatter(.5*(area_bins_fox[1:]+area_bins_fox[:-1]),bin_medians_fox, s=symbolSize, marker = \"s\", color = 'r', label=\"Fox\")\n",
    "# ax3.scatter(.5*(area_bins_hank[1:]+area_bins_hank[:-1]),bin_medians_hank, s=symbolSize, marker = \"o\", color = 'b', label=\"Hank\")\n",
    "# ax3.scatter(.5*(area_bins_dry[1:]+area_bins_dry[:-1]),bin_medians_dry, s=symbolSize, marker = \"s\", color = 'b', label=\"Dry\")\n",
    "\n",
    "if plotError:\n",
    "    ax3.errorbar(.5*(area_bins_elder[1:]+area_bins_elder[:-1]),bin_medians_elder, yerr=bin_stds_elder, fmt = None, capthick=0, ecolor = 'r')\n",
    "    ax3.errorbar(.5*(area_bins_fox[1:]+area_bins_fox[:-1]),bin_medians_fox, yerr=bin_stds_fox, fmt = None, capthick=0, ecolor = 'r')\n",
    "#     ax3.errorbar(.5*(area_bins_hank[1:]+area_bins_hank[:-1]),bin_medians_hank, yerr=bin_stds_hank, fmt = None, capthick=0, ecolor = 'b')\n",
    "#     ax3.errorbar(.5*(area_bins_dry[1:]+area_bins_dry[:-1]),bin_medians_dry, yerr=bin_stds_dry, fmt = None, capthick=0, ecolor = 'b')\n",
    "\n",
    "#ax3.fill_between(.5*(area_bins_elder[1:]+area_bins_elder[:-1]),np.subtract(bin_medians_elder, bin_stds_elder), np.add(bin_medians_elder,bin_stds_elder), color = 'r', alpha=0.3)\n",
    "#ax3.fill_between(.5*(area_bins_fox[1:]+area_bins_fox[:-1]),np.subtract(bin_medians_fox, bin_stds_fox), np.add(bin_medians_fox,bin_stds_fox), color = 'k', alpha=0.3)\n",
    "#ax3.fill_between(.5*(area_bins_hank[1:]+area_bins_hank[:-1]),np.subtract(bin_medians_hank, bin_stds_hank), np.add(bin_medians_hank,bin_stds_hank), color = 'b', alpha=0.3)\n",
    "#ax3.fill_between(.5*(area_bins_dry[1:]+area_bins_dry[:-1]),np.subtract(bin_medians_dry, bin_stds_dry), np.add(bin_medians_dry,bin_stds_dry), color = 'y', alpha=0.3)\n",
    "\n",
    "\n",
    "symbolSize = 10\n",
    "alphaLevel=1\n",
    "ax3.scatter(r1['flowacc_co'], r1['slp_deg_co'], zorder=100,\n",
    "            alpha=alphaLevel, marker = \"s\", color='orange',\n",
    "            label = 'Round 1', s=symbolSize)\n",
    "ax3.scatter(r2['flowacc_co'], r2['slp_deg_co'], zorder=100,\n",
    "            alpha=alphaLevel, marker = \"o\", color='teal',\n",
    "            label = 'Round 2', s=symbolSize)\n",
    "\n",
    "\n",
    "ax3.legend(bbox_to_anchor=(.95, .95))\n",
    "ax3.set_ylabel(\"Hillslope angle [  $^{\\circ}$ ]\")\n",
    "ax3.set_xlabel(\"Upslope contributing area [ m$^2$]\")\n",
    "ax3.set_ylim([0,60])\n",
    "ax3.set_xlim([1,10000000])\n",
    "# ax3.set_yscale('log')\n",
    "ax3.set_xscale('log')\n",
    "\n",
    "\n",
    "ax4.plot(elder_slope_density, elder_slope_value, lw=1, color='r');\n",
    "ax4.plot(fox_slope_density, fox_slope_value, linestyle = '--', lw=1, color='r');\n",
    "# ax4.plot(hank_slope_density, hank_slope_value, lw=1, color='b');\n",
    "# ax4.plot(dry_slope_density, dry_slope_value, linestyle = '--', lw=1, color='b');\n",
    "# ax4.set_yscale('log')\n",
    "ax4.plot(round1_slope_density, round1_slope_value, lw=1, color='orange');\n",
    "ax4.plot(round2_slope_density, round1_slope_value, lw=1, color='teal');\n",
    "\n",
    "ax4.axes.get_yaxis().set_visible(False)\n",
    "ax4.axes.get_xaxis().set_visible(False)\n",
    "\n",
    "\n",
    "\n",
    "sns.despine()\n",
    "\n",
    "\n",
    "\n",
    "fig.subplots_adjust(hspace=0)\n",
    "fig.subplots_adjust(wspace=0)\n",
    "\n",
    "ax2.axis('off')\n",
    "fig.set_size_inches(10, 10)\n",
    "fig.savefig('logS_vs_logA_a.pdf', transparent=True, pad_inches=0)\n",
    "\n",
    "plt.show()\n"
   ]
  },
  {
   "cell_type": "code",
   "execution_count": null,
   "metadata": {
    "collapsed": true
   },
   "outputs": [],
   "source": []
  }
 ],
 "metadata": {
  "kernelspec": {
   "display_name": "Python 2",
   "language": "python",
   "name": "python2"
  },
  "language_info": {
   "codemirror_mode": {
    "name": "ipython",
    "version": 2
   },
   "file_extension": ".py",
   "mimetype": "text/x-python",
   "name": "python",
   "nbconvert_exporter": "python",
   "pygments_lexer": "ipython2",
   "version": "2.7.11"
  }
 },
 "nbformat": 4,
 "nbformat_minor": 0
}
