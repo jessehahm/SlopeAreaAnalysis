{
 "cells": [
  {
   "cell_type": "code",
   "execution_count": 6,
   "metadata": {
    "collapsed": false
   },
   "outputs": [],
   "source": [
    "import numpy as np\n",
    "import gdal\n",
    "# import pandas as pd\n",
    "import matplotlib.pyplot as plt\n",
    "import matplotlib\n",
    "matplotlib.rcParams['pdf.fonttype'] = 42\n",
    "%matplotlib inline\n",
    "# import math\n",
    "#merged slope raster, accumulation area raster, and watershed raster into one three band raster.\n",
    "#QGIS>Raster>Misc>Merge, layer stack, use intersected extent...\n",
    "# exported this raster into a text file from OSGeo4W command line:\n",
    "# gdal2xyz input.tif -band 1 -band 2 -band 3 output.txt. This is a slow operation... "
   ]
  },
  {
   "cell_type": "code",
   "execution_count": 7,
   "metadata": {
    "collapsed": true
   },
   "outputs": [],
   "source": [
    "ds = gdal.Open('..\\..\\GIS\\LIDAR\\\\area_slope_shed.tif')\n"
   ]
  },
  {
   "cell_type": "code",
   "execution_count": 8,
   "metadata": {
    "collapsed": true
   },
   "outputs": [],
   "source": [
    "ds?"
   ]
  },
  {
   "cell_type": "code",
   "execution_count": 9,
   "metadata": {
    "collapsed": false
   },
   "outputs": [],
   "source": [
    "band1 = ds.GetRasterBand(1)\n",
    "band2 = ds.GetRasterBand(2)\n",
    "band3 = ds.GetRasterBand(3)"
   ]
  },
  {
   "cell_type": "code",
   "execution_count": 10,
   "metadata": {
    "collapsed": false
   },
   "outputs": [
    {
     "ename": "MemoryError",
     "evalue": "",
     "output_type": "error",
     "traceback": [
      "\u001b[1;31m---------------------------------------------------------------------------\u001b[0m",
      "\u001b[1;31mMemoryError\u001b[0m                               Traceback (most recent call last)",
      "\u001b[1;32m<ipython-input-10-351e0de9a808>\u001b[0m in \u001b[0;36m<module>\u001b[1;34m()\u001b[0m\n\u001b[0;32m      1\u001b[0m \u001b[0marray1\u001b[0m \u001b[1;33m=\u001b[0m \u001b[0mband1\u001b[0m\u001b[1;33m.\u001b[0m\u001b[0mReadAsArray\u001b[0m\u001b[1;33m(\u001b[0m\u001b[1;33m)\u001b[0m\u001b[1;33m.\u001b[0m\u001b[0mflatten\u001b[0m\u001b[1;33m(\u001b[0m\u001b[1;33m)\u001b[0m\u001b[1;33m\u001b[0m\u001b[0m\n\u001b[0;32m      2\u001b[0m \u001b[0marray2\u001b[0m \u001b[1;33m=\u001b[0m \u001b[0mband2\u001b[0m\u001b[1;33m.\u001b[0m\u001b[0mReadAsArray\u001b[0m\u001b[1;33m(\u001b[0m\u001b[1;33m)\u001b[0m\u001b[1;33m.\u001b[0m\u001b[0mflatten\u001b[0m\u001b[1;33m(\u001b[0m\u001b[1;33m)\u001b[0m\u001b[1;33m\u001b[0m\u001b[0m\n\u001b[1;32m----> 3\u001b[1;33m \u001b[0marray3\u001b[0m \u001b[1;33m=\u001b[0m \u001b[0mband3\u001b[0m\u001b[1;33m.\u001b[0m\u001b[0mReadAsArray\u001b[0m\u001b[1;33m(\u001b[0m\u001b[1;33m)\u001b[0m\u001b[1;33m.\u001b[0m\u001b[0mflatten\u001b[0m\u001b[1;33m(\u001b[0m\u001b[1;33m)\u001b[0m\u001b[1;33m\u001b[0m\u001b[0m\n\u001b[0m",
      "\u001b[1;31mMemoryError\u001b[0m: "
     ]
    }
   ],
   "source": [
    "array1 = band1.ReadAsArray().flatten()\n",
    "array2 = band2.ReadAsArray().flatten()\n",
    "array3 = band3.ReadAsArray().flatten()"
   ]
  },
  {
   "cell_type": "code",
   "execution_count": null,
   "metadata": {
    "collapsed": false
   },
   "outputs": [],
   "source": [
    "elderSlope = array2[array3 == 1]\n",
    "elderArea = array1[array3 == 1]\n",
    "# foxSlope = array2[array3 == 2]\n",
    "# foxArea = array1[array3 == 2]\n",
    "hankSlope = array2[array3 == 3]\n",
    "hankArea = array1[array3 == 3]\n",
    "drySlope = array2[array3 == 4]\n",
    "dryArea = array1[array3 == 4]\n",
    "\n",
    "#Band 1 = area\n",
    "#Band 2 = slope\n",
    "# Band 3 = watershed\n",
    "\n",
    "#watershed key:\n",
    "#Dry = 4\n",
    "#Hank = 3\n",
    "#Elder = 1\n",
    "#Fox = 2"
   ]
  },
  {
   "cell_type": "code",
   "execution_count": null,
   "metadata": {
    "collapsed": false
   },
   "outputs": [],
   "source": [
    "# elderArea = elderArea + 1 #can't take log of 0\n",
    "# foxArea = foxArea + 1\n",
    "# hankArea = hankArea + 1 \n",
    "# dryArea = dryArea + 1 \n"
   ]
  },
  {
   "cell_type": "code",
   "execution_count": null,
   "metadata": {
    "collapsed": false
   },
   "outputs": [],
   "source": [
    "# np.add(bin_medians_dry,bin_stds_dry).shape"
   ]
  },
  {
   "cell_type": "code",
   "execution_count": null,
   "metadata": {
    "collapsed": false,
    "scrolled": true
   },
   "outputs": [],
   "source": [
    "#GENERATE LOGARITHMIC BIN SPACING\n",
    "numBins = 21\n",
    "\n",
    "area_bins_elder = np.logspace(np.log10(min(elderArea)), np.log10(max(elderArea)), numBins)\n",
    "# area_bins_fox = np.logspace(np.log10(min(hankArea)), np.log10(max(hankArea)), numBins)\n",
    "area_bins_hank = np.logspace(np.log10(min(hankArea)), np.log10(max(hankArea)), numBins)\n",
    "area_bins_dry = np.logspace(np.log10(min(hankArea)), np.log10(max(dryArea)), numBins)\n",
    "\n",
    "\n",
    "#Return the indices_elder of the bins to which each value in input array belongs.\n",
    "indices_elder = np.digitize(elderArea, area_bins_elder)\n",
    "# indices_fox = np.digitize(foxArea, area_bins_fox)\n",
    "indices_hank = np.digitize(hankArea, area_bins_hank)\n",
    "indices_dry = np.digitize(dryArea, area_bins_dry)\n",
    "\n",
    "#COMPUTE MEAN, MEDIAN AND STANDARD DEVIATION OF SLOPE IN EACH AREA BIN\n",
    "bin_means_elder = [elderSlope[indices_elder == i].mean() for i in range(1, len(area_bins_elder))]\n",
    "bin_medians_elder = [np.median(elderSlope[indices_elder == i]) for i in range(1, len(area_bins_elder))]\n",
    "bin_stds_elder = [elderSlope[indices_elder == i].std() for i in range(1, len(area_bins_elder))]\n",
    "\n",
    "# bin_means_fox = [foxSlope[indices_fox == i].mean() for i in range(1, len(area_bins_fox))]\n",
    "# bin_medians_fox = [np.median(foxSlope[indices_fox == i]) for i in range(1, len(area_bins_fox))]\n",
    "# bin_stds_fox = [foxSlope[indices_fox == i].std() for i in range(1, len(area_bins_fox))]\n",
    "\n",
    "bin_means_hank = [hankSlope[indices_hank == i].mean() for i in range(1, len(area_bins_hank))]\n",
    "bin_medians_hank = [np.median(hankSlope[indices_hank == i]) for i in range(1, len(area_bins_hank))]\n",
    "bin_stds_hank = [hankSlope[indices_hank == i].std() for i in range(1, len(area_bins_hank))]\n",
    "# bin_sems_hank = [hankSlope[indices_hank == i].std()/math.sqrt(len(hankSlope[indices_hank == i])) for i in range(1, len(area_bins_hank))]\n",
    "\n",
    "bin_means_dry = [drySlope[indices_dry == i].mean() for i in range(1, len(area_bins_dry))]\n",
    "bin_medians_dry = [np.median(drySlope[indices_dry == i]) for i in range(1, len(area_bins_dry))]\n",
    "bin_stds_dry = [drySlope[indices_dry == i].std() for i in range(1, len(area_bins_dry))]\n",
    "\n"
   ]
  },
  {
   "cell_type": "code",
   "execution_count": null,
   "metadata": {
    "collapsed": false
   },
   "outputs": [],
   "source": [
    "# Create a figure\n",
    "plt.figure(figsize=(11,8.5))\n",
    "\n",
    "plt.scatter(.5*(area_bins_elder[1:]+area_bins_elder[:-1]),bin_medians_elder, marker = \"o\", color = 'r', label=\"Elder\")\n",
    "plt.errorbar(.5*(area_bins_elder[1:]+area_bins_elder[:-1]),bin_medians_elder, yerr=bin_stds_elder, fmt = None, capthick=0, ecolor = 'r')\n",
    "\n",
    "# plt.scatter(.5*(area_bins_fox[1:]+area_bins_fox[:-1]),bin_medians_fox, marker = \"s\", color = 'r', label=\"Fox\")\n",
    "# plt.errorbar(.5*(area_bins_fox[1:]+area_bins_fox[:-1]),bin_medians_fox, yerr=bin_stds_fox, fmt = None, capthick=0, ecolor = 'r')\n",
    "\n",
    "\n",
    "\n",
    "plt.scatter(.5*(area_bins_hank[1:]+area_bins_hank[:-1]),bin_medians_hank, marker = \"o\", color = 'b', label=\"Hank\")\n",
    "plt.errorbar(.5*(area_bins_hank[1:]+area_bins_hank[:-1]),bin_medians_hank, yerr=bin_stds_hank, fmt = None, capthick=0, ecolor = 'b')\n",
    "\n",
    "plt.scatter(.5*(area_bins_dry[1:]+area_bins_dry[:-1]),bin_medians_dry, marker = \"s\", color = 'b', label=\"Dry\")\n",
    "plt.errorbar(.5*(area_bins_dry[1:]+area_bins_dry[:-1]),bin_medians_dry, yerr=bin_stds_dry, fmt = None, capthick=0, ecolor = 'b')\n",
    "\n",
    "#plt.fill_between(.5*(area_bins_elder[1:]+area_bins_elder[:-1]),np.subtract(bin_medians_elder, bin_stds_elder), np.add(bin_medians_elder,bin_stds_elder), color = 'r', alpha=0.3)\n",
    "#plt.fill_between(.5*(area_bins_fox[1:]+area_bins_fox[:-1]),np.subtract(bin_medians_fox, bin_stds_fox), np.add(bin_medians_fox,bin_stds_fox), color = 'k', alpha=0.3)\n",
    "#plt.fill_between(.5*(area_bins_hank[1:]+area_bins_hank[:-1]),np.subtract(bin_medians_hank, bin_stds_hank), np.add(bin_medians_hank,bin_stds_hank), color = 'b', alpha=0.3)\n",
    "#plt.fill_between(.5*(area_bins_dry[1:]+area_bins_dry[:-1]),np.subtract(bin_medians_dry, bin_stds_dry), np.add(bin_medians_dry,bin_stds_dry), color = 'y', alpha=0.3)\n",
    "\n",
    "plt.legend(bbox_to_anchor=(1, 1))\n",
    "plt.ylabel(\"Hillslope angle [ % ]\")\n",
    "plt.xlabel(\"Upslope contributing area [ m$^2$]\")\n",
    "plt.ylim([5,100])\n",
    "plt.xlim([1,10000000])\n",
    "plt.yscale('log')\n",
    "plt.xscale('log')\n",
    "ax = plt.gca()\n",
    "import matplotlib.ticker\n",
    "ax.yaxis.set_major_formatter(matplotlib.ticker.ScalarFormatter())\n",
    "ax.xaxis.set_major_formatter(matplotlib.ticker.ScalarFormatter())\n",
    "ax.get_xaxis().get_major_formatter().set_scientific(False)\n",
    "ax.tick_params('both', length=15, width=1, which='major')\n",
    "ax.tick_params('both', length=8, width=1, which='minor')\n",
    "# plt.savefig('logS_vs_logA.pdf', transparent=True, bbox_inches='tight', pad_inches=0)\n",
    "plt.show()"
   ]
  },
  {
   "cell_type": "code",
   "execution_count": null,
   "metadata": {
    "collapsed": true
   },
   "outputs": [],
   "source": []
  }
 ],
 "metadata": {
  "kernelspec": {
   "display_name": "Python 2",
   "language": "python",
   "name": "python2"
  },
  "language_info": {
   "codemirror_mode": {
    "name": "ipython",
    "version": 2
   },
   "file_extension": ".py",
   "mimetype": "text/x-python",
   "name": "python",
   "nbconvert_exporter": "python",
   "pygments_lexer": "ipython2",
   "version": "2.7.10"
  }
 },
 "nbformat": 4,
 "nbformat_minor": 0
}
