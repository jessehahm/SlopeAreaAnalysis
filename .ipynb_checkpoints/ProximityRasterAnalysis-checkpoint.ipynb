{
 "cells": [
  {
   "cell_type": "code",
   "execution_count": null,
   "metadata": {
    "collapsed": true
   },
   "outputs": [],
   "source": [
    "# Jesse Hahm\n",
    "# 12/12/2015\n",
    "# import a proximity raster (generated in QGIS) whose pixel values are\n",
    "# horizontal distance in meters to nearest geomorphic channel\n",
    "# create empirical PDF and plot with statistics\n",
    "\n",
    "import numpy as np\n",
    "import gdal\n",
    "import pandas as pd\n",
    "import matplotlib.pyplot as plt\n",
    "matplotlib.rcParams['pdf.fonttype'] = 42\n",
    "%matplotlib inline\n",
    "\n"
   ]
  },
  {
   "cell_type": "code",
   "execution_count": null,
   "metadata": {
    "collapsed": true
   },
   "outputs": [],
   "source": [
    "ds = gdal.Open('..\\..\\GIS\\LIDAR\\merge3.tif')\n",
    "band1 = ds.GetRasterBand(1)\n",
    "array1 = band1.ReadAsArray().flatten()\n"
   ]
  },
  {
   "cell_type": "code",
   "execution_count": null,
   "metadata": {
    "collapsed": true
   },
   "outputs": [],
   "source": [
    "def kde_fit(array):\n",
    "    dens = sm.nonparametric.KDEUnivariate(array)\n",
    "    dens.fit()\n",
    "    return dens\n"
   ]
  },
  {
   "cell_type": "code",
   "execution_count": null,
   "metadata": {
    "collapsed": true
   },
   "outputs": [],
   "source": [
    "Slope = kde_fit(df[0].values)"
   ]
  },
  {
   "cell_type": "code",
   "execution_count": null,
   "metadata": {
    "collapsed": true
   },
   "outputs": [],
   "source": [
    "fig = plt.figure()\n",
    "plt.plot(Slope.support, Slope.density, lw=1, color='r');\n",
    "\n",
    "#plt.xscale('log')\n",
    "plt.xlim([0,110])\n",
    "plt.xlabel(\"Horizontal distance to nearest geomorphic channel (m) \")\n",
    "plt.ylabel(\"Empirical PDF\")\n",
    "plt.title(\"Dry Creek (Central Belt) \\n median = \" + str(np.median(df[0].values)) + \"\\n mean = \" + str(np.mean(df[0].values)) + \"\\n std dev = \" + str(np.std(df[0].values)))\n",
    "#fig.savefig('Figs\\dryCreek.pdf', transparent=True, bbox_inches='tight', pad_inches=0.2)"
   ]
  }
 ],
 "metadata": {
  "kernelspec": {
   "display_name": "Python 2",
   "language": "python",
   "name": "python2"
  },
  "language_info": {
   "codemirror_mode": {
    "name": "ipython",
    "version": 2
   },
   "file_extension": ".py",
   "mimetype": "text/x-python",
   "name": "python",
   "nbconvert_exporter": "python",
   "pygments_lexer": "ipython2",
   "version": "2.7.10"
  }
 },
 "nbformat": 4,
 "nbformat_minor": 0
}
