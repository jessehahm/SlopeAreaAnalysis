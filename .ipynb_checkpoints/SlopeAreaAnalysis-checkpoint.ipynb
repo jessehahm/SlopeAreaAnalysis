{
 "cells": [
  {
   "cell_type": "code",
   "execution_count": null,
   "metadata": {
    "collapsed": false
   },
   "outputs": [],
   "source": [
    "import numpy as np\n",
    "import gdal\n",
    "import pandas as pd\n",
    "import matplotlib.pyplot as plt\n",
    "%matplotlib inline\n",
    "#merged slope raster, accumulation area raster, and watershed raster into one three band raster.\n",
    "# exported this raster into a text file from OSGeo4W command line:\n",
    "# gdal2xyz input.tif -band 1 -band 2 -band 3 output.txt. This is a slow operation... \n",
    "\n",
    "#Dry = 4\n",
    "#Hank = 3\n",
    "#Elder = 1\n",
    "#Fox = 2"
   ]
  },
  {
   "cell_type": "code",
   "execution_count": 4,
   "metadata": {
    "collapsed": false
   },
   "outputs": [
    {
     "data": {
      "text/plain": [
       "7"
      ]
     },
     "execution_count": 4,
     "metadata": {},
     "output_type": "execute_result"
    }
   ],
   "source": [
    "\n",
    "#READ IN DATA FROM CSV\n",
    "#slope_perc_elder = np.genfromtxt('data/Elder_Points_ELEV_SLOPE_AREA_CURV_COORDS.csv',usecols=(3),delimiter=',',dtype=None, skiprows=1)\n",
    "\n",
    "int(round(6.93245))"
   ]
  },
  {
   "cell_type": "code",
   "execution_count": null,
   "metadata": {
    "collapsed": true
   },
   "outputs": [],
   "source": [
    "ds = gdal.Open('..\\..\\GIS\\LIDAR\\merge3.tif')\n",
    "#Band 1 = area\n",
    "#Band 2 = slope\n",
    "# Band 3 = watershed"
   ]
  },
  {
   "cell_type": "code",
   "execution_count": null,
   "metadata": {
    "collapsed": false
   },
   "outputs": [],
   "source": [
    "band1 = ds.GetRasterBand(1)\n",
    "band2 = ds.GetRasterBand(2)\n",
    "band3 = ds.GetRasterBand(3)"
   ]
  },
  {
   "cell_type": "code",
   "execution_count": null,
   "metadata": {
    "collapsed": true
   },
   "outputs": [],
   "source": [
    "array1 = band1.ReadAsArray()\n",
    "array2 = band2.ReadAsArray()\n",
    "array3 = band3.ReadAsArray()"
   ]
  },
  {
   "cell_type": "code",
   "execution_count": null,
   "metadata": {
    "collapsed": false
   },
   "outputs": [],
   "source": [
    "array1.min()"
   ]
  },
  {
   "cell_type": "code",
   "execution_count": null,
   "metadata": {
    "collapsed": false
   },
   "outputs": [],
   "source": [
    "elderSlope = int(round(array2[array3 == 1].flatten()))\n",
    "elderArea = array1[array3 == 1].flatten()\n",
    "#elderArea = elderArea[elderArea != -32768]\n",
    "#foxSlope = array1[array2 == 2].flatten()\n",
    "#foxArea = array3[array2 == 2].flatten()\n",
    "#hankSlope = array1[array2 == 3].flatten()\n",
    "#hankArea = array3[array2 == 3].flatten()\n",
    "#drySlope = array1[array2 == 4].flatten()\n",
    "#dryArea = array3[array2 == 4].flatten()"
   ]
  },
  {
   "cell_type": "code",
   "execution_count": null,
   "metadata": {
    "collapsed": false
   },
   "outputs": [],
   "source": [
    "#df = pd.DataFrame([elderSlope, elderArea, foxSlope, foxArea, hankSl\n",
    "\n"
   ]
  },
  {
   "cell_type": "code",
   "execution_count": null,
   "metadata": {
    "collapsed": false
   },
   "outputs": [],
   "source": []
  },
  {
   "cell_type": "code",
   "execution_count": null,
   "metadata": {
    "collapsed": false
   },
   "outputs": [],
   "source": [
    "#GENERATE LOGARITHMIC BIN SPACING\n",
    "numBins = 20\n",
    "elderArea = elderArea + 1\n",
    "area_bins_elder = np.logspace(np.log10(min(elderArea)), np.log10(max(elderArea)), numBins)\n",
    "print area_bins_elder"
   ]
  },
  {
   "cell_type": "code",
   "execution_count": null,
   "metadata": {
    "collapsed": false
   },
   "outputs": [],
   "source": []
  },
  {
   "cell_type": "code",
   "execution_count": null,
   "metadata": {
    "collapsed": true
   },
   "outputs": [],
   "source": [
    "#Return the indices_elder of the bins to which each value in input array belongs.\n",
    "indices_elder = np.digitize(elderArea, area_bins_elder)\n",
    "\n"
   ]
  },
  {
   "cell_type": "code",
   "execution_count": null,
   "metadata": {
    "collapsed": true
   },
   "outputs": [],
   "source": []
  },
  {
   "cell_type": "code",
   "execution_count": null,
   "metadata": {
    "collapsed": false
   },
   "outputs": [],
   "source": [
    "#COMPUTE MEAN, MEDIAN AND STANDARD DEVIATION OF SLOPE IN EACH AREA BIN\n",
    "bin_means_elder = [elderSlope[indices_elder == i].mean() for i in range(1, len(area_bins_elder))]\n",
    "bin_medians_elder = [np.median(elderSlope[indices_elder == i]) for i in range(1, len(area_bins_elder))]\n",
    "bin_stds_elder = [elderSlope[indices_elder == i].std() for i in range(1, len(area_bins_elder))]\n",
    "\n",
    "\n"
   ]
  },
  {
   "cell_type": "code",
   "execution_count": null,
   "metadata": {
    "collapsed": false
   },
   "outputs": [],
   "source": [
    "# Create a figure\n",
    "plt.figure(figsize=(10,8))\n",
    "\n",
    "# Create a scatterplot of,\n",
    "            # attacker size in year 298 as the x axis\n",
    "plt.scatter(.5*(area_bins_elder[1:]+area_bins_elder[:-1]),bin_means_elder, marker = \"o\", color = 'r')\n",
    "plt.errorbar(.5*(area_bins_elder[1:]+area_bins_elder[:-1]),bin_means_elder, yerr=bin_stds_elder, fmt = None, capthick=0, ecolor = 'r')\n",
    "\n",
    "#plt.yscale('log')\n",
    "#plt.xscale('log')\n",
    "plt.show()"
   ]
  },
  {
   "cell_type": "code",
   "execution_count": null,
   "metadata": {
    "collapsed": true
   },
   "outputs": [],
   "source": []
  }
 ],
 "metadata": {
  "kernelspec": {
   "display_name": "Python 2",
   "language": "python",
   "name": "python2"
  },
  "language_info": {
   "codemirror_mode": {
    "name": "ipython",
    "version": 2
   },
   "file_extension": ".py",
   "mimetype": "text/x-python",
   "name": "python",
   "nbconvert_exporter": "python",
   "pygments_lexer": "ipython2",
   "version": "2.7.10"
  }
 },
 "nbformat": 4,
 "nbformat_minor": 0
}
