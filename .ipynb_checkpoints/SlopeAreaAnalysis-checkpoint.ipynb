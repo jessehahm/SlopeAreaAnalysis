{
 "cells": [
  {
   "cell_type": "code",
   "execution_count": 11,
   "metadata": {
    "collapsed": false
   },
   "outputs": [],
   "source": [
    "import numpy as np\n",
    "import gdal\n",
    "#merged slope raster, accumulation area raster, and watershed raster into one three band raster.\n",
    "# exported this raster into a text file from OSGeo4W command line:\n",
    "# gdal2xyz input.tif -band 1 -band 2 -band 3 output.txt. This is a slow operation... \n",
    "\n",
    "#Dry = 4\n",
    "#Hank = 3\n",
    "#Elder = 1\n",
    "#Fox = 2"
   ]
  },
  {
   "cell_type": "code",
   "execution_count": 12,
   "metadata": {
    "collapsed": true
   },
   "outputs": [],
   "source": [
    "\n",
    "#READ IN DATA FROM CSV\n",
    "#slope_perc_elder = np.genfromtxt('data/Elder_Points_ELEV_SLOPE_AREA_CURV_COORDS.csv',usecols=(3),delimiter=',',dtype=None, skiprows=1)\n",
    "\n"
   ]
  },
  {
   "cell_type": "code",
   "execution_count": 13,
   "metadata": {
    "collapsed": true
   },
   "outputs": [],
   "source": [
    "ds = gdal.Open('..\\..\\GIS\\LIDAR\\merge2.tif')\n",
    "#Band 1 = slope\n",
    "#Band 2 = watershed\n",
    "# Band 3 = upslope contributing area"
   ]
  },
  {
   "cell_type": "code",
   "execution_count": 14,
   "metadata": {
    "collapsed": false
   },
   "outputs": [],
   "source": [
    "band1 = ds.GetRasterBand(1)\n",
    "band2 = ds.GetRasterBand(2)\n",
    "band3 = ds.GetRasterBand(3)"
   ]
  },
  {
   "cell_type": "code",
   "execution_count": null,
   "metadata": {
    "collapsed": true
   },
   "outputs": [],
   "source": [
    "array1 = band1.ReadAsArray()\n",
    "array2 = band2.ReadAsArray()\n",
    "array3 = band3.ReadAsArray()"
   ]
  },
  {
   "cell_type": "code",
   "execution_count": null,
   "metadata": {
    "collapsed": false
   },
   "outputs": [],
   "source": [
    "array1.min()"
   ]
  },
  {
   "cell_type": "code",
   "execution_count": null,
   "metadata": {
    "collapsed": true
   },
   "outputs": [],
   "source": [
    "foxSlope = array1[array2 == 2].flatten()\n",
    "foxArea = array3[array2 == 2].flatten()"
   ]
  }
 ],
 "metadata": {
  "kernelspec": {
   "display_name": "Python 2",
   "language": "python",
   "name": "python2"
  },
  "language_info": {
   "codemirror_mode": {
    "name": "ipython",
    "version": 2
   },
   "file_extension": ".py",
   "mimetype": "text/x-python",
   "name": "python",
   "nbconvert_exporter": "python",
   "pygments_lexer": "ipython2",
   "version": "2.7.10"
  }
 },
 "nbformat": 4,
 "nbformat_minor": 0
}
